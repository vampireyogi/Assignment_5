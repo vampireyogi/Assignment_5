{
 "cells": [
  {
   "cell_type": "markdown",
   "id": "08dedfae",
   "metadata": {},
   "source": [
    "1. What does an empty dictionary&#39;s code look like?"
   ]
  },
  {
   "cell_type": "code",
   "execution_count": 12,
   "id": "a57a45ce",
   "metadata": {},
   "outputs": [
    {
     "name": "stdout",
     "output_type": "stream",
     "text": [
      "<class 'dict'>\n"
     ]
    }
   ],
   "source": [
    "D1= {}\n",
    "print(type(D1))"
   ]
  },
  {
   "cell_type": "markdown",
   "id": "25fe01a8",
   "metadata": {},
   "source": [
    "2. What is the value of a dictionary value with the key &#39;foo&#39; and the value 42?"
   ]
  },
  {
   "cell_type": "code",
   "execution_count": 13,
   "id": "08bbfaa0",
   "metadata": {},
   "outputs": [],
   "source": [
    "Dict={'foo':42}"
   ]
  },
  {
   "cell_type": "markdown",
   "id": "d24a5bdf",
   "metadata": {},
   "source": [
    "3. What is the most significant distinction between a dictionary and a list?\n",
    "-  items in list are ordered but items in dictionary are unordered."
   ]
  },
  {
   "cell_type": "markdown",
   "id": "46f47f87",
   "metadata": {},
   "source": [
    "4. What happens if you try to access spam[&#39;foo&#39;] if spam is {&#39;bar&#39;: 100}?\n",
    "- if we try to access spam['foo'] it shows a error because ['foo'] is not in dictonary"
   ]
  },
  {
   "cell_type": "code",
   "execution_count": 2,
   "id": "3b2691f9",
   "metadata": {},
   "outputs": [
    {
     "ename": "KeyError",
     "evalue": "'foo'",
     "output_type": "error",
     "traceback": [
      "\u001b[1;31m---------------------------------------------------------------------------\u001b[0m",
      "\u001b[1;31mKeyError\u001b[0m                                  Traceback (most recent call last)",
      "Cell \u001b[1;32mIn[2], line 2\u001b[0m\n\u001b[0;32m      1\u001b[0m spam\u001b[38;5;241m=\u001b[39m{\u001b[38;5;124m'\u001b[39m\u001b[38;5;124mbar\u001b[39m\u001b[38;5;124m'\u001b[39m:\u001b[38;5;241m100\u001b[39m}\n\u001b[1;32m----> 2\u001b[0m \u001b[38;5;28mprint\u001b[39m(spam[\u001b[38;5;124m'\u001b[39m\u001b[38;5;124mfoo\u001b[39m\u001b[38;5;124m'\u001b[39m])\n",
      "\u001b[1;31mKeyError\u001b[0m: 'foo'"
     ]
    }
   ],
   "source": [
    "spam={'bar':100}\n",
    "print(spam['foo']) "
   ]
  },
  {
   "cell_type": "markdown",
   "id": "c0fe839f",
   "metadata": {},
   "source": [
    "5. If a dictionary is stored in spam, what is the difference between the expressions &#39;cat&#39; in spam and\n",
    "&#39;cat&#39; in spam.keys()?\n",
    "- Both experssions 'cat' in spam and 'cat' in spam.keys() checks 'cat' in spam keys so their is no difference between both experssions "
   ]
  },
  {
   "cell_type": "code",
   "execution_count": 14,
   "id": "f52eec70",
   "metadata": {},
   "outputs": [
    {
     "name": "stdout",
     "output_type": "stream",
     "text": [
      "in dict\n"
     ]
    }
   ],
   "source": [
    "spam={'cat':'yes'}\n",
    "if ('cat' in spam) and ('cat' in spam.keys()):\n",
    "    print(\"in dict\")"
   ]
  },
  {
   "cell_type": "markdown",
   "id": "4add1e8b",
   "metadata": {},
   "source": [
    "6. If a dictionary is stored in spam, what is the difference between the expressions &#39;cat&#39; in spam and\n",
    "&#39;cat&#39; in spam.values()? \n",
    "- 'cat' in spam checks 'cat' in keys and 'cat' in spam.values() checks 'cat' in values."
   ]
  },
  {
   "cell_type": "code",
   "execution_count": 16,
   "id": "cdac9261",
   "metadata": {},
   "outputs": [
    {
     "name": "stdout",
     "output_type": "stream",
     "text": [
      "in values\n"
     ]
    }
   ],
   "source": [
    "spam={'new':'cat'}\n",
    "if 'cat' in spam:\n",
    "    print(\"in keys\")\n",
    "elif 'cat' in spam.values():\n",
    "    print('in values')"
   ]
  },
  {
   "cell_type": "markdown",
   "id": "c1842460",
   "metadata": {},
   "source": [
    "7. What is a shortcut for the following code?\n",
    "if &#39;color&#39; not in spam:\n",
    "spam[&#39;color&#39;] = &#39;black&#39;\n",
    "- setdefault method/function \n",
    "- The setdefault() method returns the value of the item with the specified key. If the key does not exist, insert the key, with the specified value"
   ]
  },
  {
   "cell_type": "code",
   "execution_count": 18,
   "id": "dfcafef5",
   "metadata": {},
   "outputs": [
    {
     "name": "stdout",
     "output_type": "stream",
     "text": [
      "{'color': 'black'}\n"
     ]
    }
   ],
   "source": [
    "spam={}\n",
    "spam.setdefault('color','black')\n",
    "print(spam)"
   ]
  },
  {
   "cell_type": "markdown",
   "id": "307d94be",
   "metadata": {},
   "source": [
    "8. How do you &quot;pretty print&quot; dictionary values using which module and function?\n",
    "- Pretty print in Python is a way to format Python data structures in a readable and interpreter-friendly way"
   ]
  },
  {
   "cell_type": "code",
   "execution_count": 22,
   "id": "d589837b",
   "metadata": {},
   "outputs": [
    {
     "name": "stdout",
     "output_type": "stream",
     "text": [
      "{'age': 25, 'name': 'yogesh'}\n"
     ]
    }
   ],
   "source": [
    "import pprint\n",
    "d1={'name':\"yogesh\",'age':25}\n",
    "pprint.pprint(d1)"
   ]
  }
 ],
 "metadata": {
  "kernelspec": {
   "display_name": "Python 3 (ipykernel)",
   "language": "python",
   "name": "python3"
  },
  "language_info": {
   "codemirror_mode": {
    "name": "ipython",
    "version": 3
   },
   "file_extension": ".py",
   "mimetype": "text/x-python",
   "name": "python",
   "nbconvert_exporter": "python",
   "pygments_lexer": "ipython3",
   "version": "3.11.3"
  }
 },
 "nbformat": 4,
 "nbformat_minor": 5
}
